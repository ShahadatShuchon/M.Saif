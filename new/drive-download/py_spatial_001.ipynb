{
 "cells": [
  {
   "cell_type": "markdown",
   "metadata": {
    "id": "Apa3Kg7ojVAx"
   },
   "source": [
    "# **Create spatial data, web map it, reproject it and export it with Python**\n",
    "\n",
    "This tutorial shows how to:\n",
    "\n",
    "* create a spatial layer from a .csv file with X,Y coordinates\n",
    "* display spatial layers in an interactive web map\n",
    "* reproject a spatial layer to a different coordinate reference system\n",
    "* export a vector layers to common geospatial formats"
   ]
  },
  {
   "cell_type": "markdown",
   "metadata": {
    "id": "FeePUubmmG6v"
   },
   "source": [
    "## **Create a spatial point layer from coordinates in a .csv file**\n",
    "\n",
    "In this first exercise let's use the X and Y coordinates from a .csv file to generate a point layer.\n",
    "\n",
    "Import the pandas library as pd and also the geopandas library:"
   ]
  },
  {
   "cell_type": "code",
   "execution_count": null,
   "metadata": {
    "id": "OpNyTxkXmHE8"
   },
   "outputs": [],
   "source": [
    "import pandas as pd\n",
    "import geopandas"
   ]
  },
  {
   "cell_type": "markdown",
   "metadata": {
    "id": "A7E0BAyfmnuu"
   },
   "source": [
    "Read in a .csv file with pandas' `read_csv()` function entering the name of the file (stations_IDEAM_sept_1_2016.csv):"
   ]
  },
  {
   "cell_type": "code",
   "execution_count": null,
   "metadata": {},
   "outputs": [],
   "source": [
    "xy_table = pd.read_csv('stations_IDEAM_sept_1_2016.csv')"
   ]
  },
  {
   "cell_type": "markdown",
   "metadata": {
    "id": "_X1d-LMUm3Lm"
   },
   "source": [
    "The `xy_table` DataFrame has two columns with x- and y-coordinates ('LONGITUD' and 'LATITUD', respectively):"
   ]
  },
  {
   "cell_type": "code",
   "execution_count": null,
   "metadata": {
    "id": "tuEr1kctm3Ts"
   },
   "outputs": [],
   "source": [
    "xy_table.head()"
   ]
  },
  {
   "cell_type": "markdown",
   "metadata": {
    "id": "teykKXnjpLWl"
   },
   "source": [
    "To create a points layer from the `xy_table` first put the coordinate values together in one column ('coordinates'):\n",
    "\n",
    "* Select the 'LONGITUD' and 'LATITUD' columns from `xy_table`\n",
    "* Extract the `values` from the two columns as an array \n",
    "* Convert the values array to list"
   ]
  },
  {
   "cell_type": "code",
   "execution_count": null,
   "metadata": {
    "id": "6BiXMHXDpRWm"
   },
   "outputs": [],
   "source": [
    "xy_table['coordinates'] = xy_table[['LONGITUD', 'LATITUD']].values.tolist()\n",
    "xy_table.head()"
   ]
  },
  {
   "cell_type": "markdown",
   "metadata": {
    "id": "qmh-hB41pReb"
   },
   "source": [
    "Change each record in the 'coordinates' column in `xy_table` to class Point:\n",
    "*  Import the Point class from the geometry module in the shapely library\n",
    "*  Then run `apply()` to change the coordinates to class Point"
   ]
  },
  {
   "cell_type": "code",
   "execution_count": null,
   "metadata": {
    "id": "ZtzpKMgxpLi_"
   },
   "outputs": [],
   "source": [
    "from shapely.geometry import Point\n",
    "xy_table['coordinates'] = xy_table['coordinates'].apply(Point)\n",
    "xy_table.head()"
   ]
  },
  {
   "cell_type": "markdown",
   "metadata": {
    "id": "vYzsuFX9raJS"
   },
   "source": [
    "`xy_table` is still a pandas DataFrame:"
   ]
  },
  {
   "cell_type": "code",
   "execution_count": null,
   "metadata": {
    "id": "NoV8LlYrraUs"
   },
   "outputs": [],
   "source": [
    "type(xy_table)"
   ]
  },
  {
   "cell_type": "markdown",
   "metadata": {
    "id": "MY5JKUMCvI8s"
   },
   "source": [
    "To convert `xy_table` to a spatial object use the `GeoDataFrame` constructor from geopandas entering the DataFrame and the column with the geometry data as inputs:"
   ]
  },
  {
   "cell_type": "code",
   "execution_count": null,
   "metadata": {
    "id": "yWJz8FyWvJJU"
   },
   "outputs": [],
   "source": [
    "stations = geopandas.GeoDataFrame(xy_table, geometry = 'coordinates')\n",
    "type(stations)"
   ]
  },
  {
   "cell_type": "markdown",
   "metadata": {
    "id": "E2f1xaBK_uX7"
   },
   "source": [
    "Plot the `stations` GeoDataFrame (static plot):"
   ]
  },
  {
   "cell_type": "code",
   "execution_count": null,
   "metadata": {
    "id": "qdS1HzCpvqVK"
   },
   "outputs": [],
   "source": [
    "stations.plot()"
   ]
  },
  {
   "cell_type": "markdown",
   "metadata": {
    "id": "5we0Uf2Nwegz"
   },
   "source": [
    "## **Display a point layer in a leaflet-based web map**\n",
    "\n",
    "A web map can be easily created with the folium library. \n",
    "\n",
    "For instructions on installing folium visit: https://python-visualization.github.io/folium/installing.html#installation\n",
    "\n",
    "After installation import the folium library:"
   ]
  },
  {
   "cell_type": "code",
   "execution_count": null,
   "metadata": {
    "id": "W6DCe_j8274H"
   },
   "outputs": [],
   "source": [
    "import folium"
   ]
  },
  {
   "cell_type": "markdown",
   "metadata": {
    "id": "vi3HaBhh8UbW"
   },
   "source": [
    "To create a leaflet web map use `folium.Map()` entering a list with latitude and longitude coordinates for the 'location' parameter (note that the order is [lat,long], not [long,lat]).\n",
    "\n",
    "For example enter the average values for the 'LATITUD' and 'LONGITUD' columns in the `stations` GeoDataFrame (optionally enter a starting zoom level):"
   ]
  },
  {
   "cell_type": "code",
   "execution_count": null,
   "metadata": {
    "id": "BMV1HPkGwesv"
   },
   "outputs": [],
   "source": [
    "osm_map = folium.Map(location=[stations.LATITUD.mean(), stations.LONGITUD.mean()], zoom_start=7)\n",
    "osm_map"
   ]
  },
  {
   "cell_type": "markdown",
   "metadata": {
    "id": "0JbF-BUe3PlK"
   },
   "source": [
    "To add a GeoDataFrame to the folium map, create a GeoJSON representation of the GeodataFrame, and then use `folium.features.GeoJson()` to create a GeoJson object for plotting into the map:"
   ]
  },
  {
   "cell_type": "code",
   "execution_count": null,
   "metadata": {
    "id": "ZWm-2QKN3PuC"
   },
   "outputs": [],
   "source": [
    "points = folium.features.GeoJson(stations.to_json())"
   ]
  },
  {
   "cell_type": "markdown",
   "metadata": {
    "id": "4hXsKmvuMA50"
   },
   "source": [
    "Then add the GeoJson object called `points` to the `map_osm` map with `add_child()`: "
   ]
  },
  {
   "cell_type": "code",
   "execution_count": null,
   "metadata": {
    "id": "jPzOhvhwMBCb"
   },
   "outputs": [],
   "source": [
    "osm_map.add_child(points)\n",
    "osm_map"
   ]
  },
  {
   "cell_type": "markdown",
   "metadata": {
    "id": "L5jFrzelwi3Z"
   },
   "source": [
    "## **Reproject a spatial layer with Python**\n",
    "\n",
    "To reproject a layer, the layer must have its coordinate reference system (CRS) defined, otherwise it's not possible to do the reprojection.\n",
    "\n",
    "Check whether the GeoDataFrame has a defined CRS:"
   ]
  },
  {
   "cell_type": "code",
   "execution_count": null,
   "metadata": {
    "id": "53Sfw9wn9E8Z"
   },
   "outputs": [],
   "source": [
    "stations.crs"
   ]
  },
  {
   "cell_type": "code",
   "execution_count": null,
   "metadata": {
    "id": "jIcvHtpWQ7xs"
   },
   "outputs": [],
   "source": [
    "stations.crs is None"
   ]
  },
  {
   "cell_type": "markdown",
   "metadata": {
    "id": "KQp4XLIv-FKe"
   },
   "source": [
    "If a layer does not have a CRS defined yet, use the `set_crs()` method to define it appropriately: "
   ]
  },
  {
   "cell_type": "code",
   "execution_count": null,
   "metadata": {
    "id": "ApprbT2k-FUG"
   },
   "outputs": [],
   "source": [
    "stations = stations.set_crs('epsg:4326')\n",
    "stations.crs"
   ]
  },
  {
   "cell_type": "markdown",
   "metadata": {
    "id": "rFkAGtUx9FFU"
   },
   "source": [
    "Reproject the `stations` layer to a different CRS using `to_crs()` for example entering an EPSG code for the desired reprojection (e.g., 'EPSG:3117'):"
   ]
  },
  {
   "cell_type": "code",
   "execution_count": null,
   "metadata": {
    "id": "bCVDLlQRwjED"
   },
   "outputs": [],
   "source": [
    "stations_epsg3117 = stations.to_crs('EPSG:3117')\n",
    "stations_epsg3117.crs"
   ]
  },
  {
   "cell_type": "markdown",
   "metadata": {
    "id": "x-Em1dAwwjWt"
   },
   "source": [
    "## **Export a GeoDataFrame to common GIS formats**\n",
    "\n",
    "Use the `to_file()` method from geopandas to write a GeoDataFrame to a file in any of more than 20 possible formats including GeoPackage, GeoJSON, GML, ESRI Shapefile, and others:"
   ]
  },
  {
   "cell_type": "code",
   "execution_count": null,
   "metadata": {
    "id": "bV07PMsUwjgW"
   },
   "outputs": [],
   "source": [
    "stations.to_file('exported_file.shp')"
   ]
  }
 ],
 "metadata": {
  "colab": {
   "collapsed_sections": [],
   "name": "py-spatial_001.ipynb",
   "provenance": []
  },
  "kernelspec": {
   "display_name": "Python 3 (ipykernel)",
   "language": "python",
   "name": "python3"
  },
  "language_info": {
   "codemirror_mode": {
    "name": "ipython",
    "version": 3
   },
   "file_extension": ".py",
   "mimetype": "text/x-python",
   "name": "python",
   "nbconvert_exporter": "python",
   "pygments_lexer": "ipython3",
   "version": "3.9.7"
  }
 },
 "nbformat": 4,
 "nbformat_minor": 1
}
